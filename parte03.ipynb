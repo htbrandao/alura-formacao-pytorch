{
 "cells": [
  {
   "cell_type": "markdown",
   "id": "b55d4c53",
   "metadata": {},
   "source": [
    "# [Formação: Deep Learning com Pytorch](https://unibb.alura.com.br/formacao-deep-learning-pytorch)"
   ]
  },
  {
   "cell_type": "code",
   "execution_count": 1,
   "id": "735842a0",
   "metadata": {},
   "outputs": [],
   "source": [
    "import re\n",
    "import os\n",
    "import nltk\n",
    "import torch\n",
    "import string\n",
    "import unicodedata\n",
    "\n",
    "import numpy as np\n",
    "import pandas as pd\n",
    "import seaborn as sns\n",
    "import matplotlib.pyplot as plt\n",
    "import matplotlib.patches as patches\n",
    "from sklearn.model_selection import train_test_split\n",
    "\n",
    "from random import choice\n",
    "from torch import nn, optim\n",
    "from torchsummary import summary\n",
    "from torch.utils.data import DataLoader\n",
    "from torchvision import datasets, transforms, models\n",
    "\n",
    "from skimage import io, color, transform, data\n",
    "\n",
    "\n",
    "%matplotlib inline\n",
    "%config IPCompleter.use_jedi = False"
   ]
  },
  {
   "cell_type": "markdown",
   "id": "96f33628",
   "metadata": {},
   "source": [
    "___\n",
    "## Parte 3/3: Dados sequenciais em deep learning"
   ]
  },
  {
   "cell_type": "markdown",
   "id": "02bad912",
   "metadata": {},
   "source": [
    "### [Redes Neurais Recorrentes: Deep Learning com Pytorch](https://unibb.alura.com.br/course/rnn-redes-neurais-recorrentes-deep-learning-pytorch)"
   ]
  },
  {
   "cell_type": "markdown",
   "id": "d6a10eaf",
   "metadata": {},
   "source": [
    "- ### Caracteres\n",
    "\n",
    "Os dados podem ser obtidos [aqui](https://pytorch.org/tutorials/intermediate/char_rnn_classification_tutorial.html)."
   ]
  },
  {
   "cell_type": "code",
   "execution_count": 2,
   "id": "95361fa2",
   "metadata": {},
   "outputs": [],
   "source": [
    "DIR_DADOS = 'datasets/nomes-nacionalidades/names/'"
   ]
  },
  {
   "cell_type": "code",
   "execution_count": 3,
   "id": "bec4ed03",
   "metadata": {},
   "outputs": [
    {
     "name": "stdout",
     "output_type": "stream",
     "text": [
      "Abadi\r\n",
      "Abadi\r\n",
      "Abadi\r\n"
     ]
    }
   ],
   "source": [
    "!sort $DIR_DADOS/Arabic.txt | head -n 3"
   ]
  },
  {
   "cell_type": "code",
   "execution_count": 4,
   "id": "61420ba7",
   "metadata": {},
   "outputs": [
    {
     "name": "stdout",
     "output_type": "stream",
     "text": [
      " 20074 total\r\n"
     ]
    }
   ],
   "source": [
    "!wc -l datasets/nomes-nacionalidades/names/* | tail -n 1"
   ]
  },
  {
   "cell_type": "code",
   "execution_count": 5,
   "id": "68a8f151",
   "metadata": {},
   "outputs": [
    {
     "name": "stdout",
     "output_type": "stream",
     "text": [
      "18 arquivos\n"
     ]
    }
   ],
   "source": [
    "print(f'{len(os.listdir(DIR_DADOS))} arquivos')"
   ]
  },
  {
   "cell_type": "markdown",
   "id": "6ab8a918",
   "metadata": {},
   "source": [
    "Carregar os dados:"
   ]
  },
  {
   "cell_type": "code",
   "execution_count": 6,
   "id": "d837a7aa",
   "metadata": {},
   "outputs": [],
   "source": [
    "def limpa_texto(nomes):\n",
    "    nomes = nomes.split('\\n')\n",
    "    nomes = [unicodedata.normalize('NFKD', nome).encode('ascii', 'ignore').decode('utf8') for nome in nomes if len(nome) >= 1]\n",
    "    nomes = [re.sub(pattern=\"[^a-zA-Z -']\", repl='', string=nome) for nome in nomes]\n",
    "    return nomes\n",
    "\n",
    "def le_arquivo(path_arquivo):\n",
    "    with open(path_arquivo, 'r') as f:\n",
    "        return limpa_texto(f.read())"
   ]
  },
  {
   "cell_type": "code",
   "execution_count": 7,
   "id": "387e0670",
   "metadata": {},
   "outputs": [],
   "source": [
    "classes = []\n",
    "dados = []\n",
    "\n",
    "for f in os.listdir(DIR_DADOS):\n",
    "    nacionalidade = f.replace('.txt', '').lower()\n",
    "    classes.append(nacionalidade)\n",
    "    nomes = sorted(le_arquivo(DIR_DADOS + f))\n",
    "    nomes = [[n, nacionalidade] for n in nomes]\n",
    "    dados.append(nomes)\n",
    "\n",
    "classes = sorted(classes)"
   ]
  },
  {
   "cell_type": "code",
   "execution_count": 8,
   "id": "fe1c38c4",
   "metadata": {},
   "outputs": [
    {
     "name": "stdout",
     "output_type": "stream",
     "text": [
      "20074 nomes lidos\n"
     ]
    }
   ],
   "source": [
    "print(f'{sum(len(d) for d in dados)} nomes lidos')"
   ]
  },
  {
   "cell_type": "markdown",
   "id": "ea134b9d",
   "metadata": {},
   "source": [
    "Explorando os dados:"
   ]
  },
  {
   "cell_type": "code",
   "execution_count": 9,
   "id": "1f6bc5e1",
   "metadata": {},
   "outputs": [
    {
     "data": {
      "text/plain": [
       "(20074, 2)"
      ]
     },
     "execution_count": 9,
     "metadata": {},
     "output_type": "execute_result"
    }
   ],
   "source": [
    "_ = []\n",
    "for d in dados:\n",
    "    _.extend(d)\n",
    "\n",
    "df = pd.DataFrame(data=_, columns=['nome', 'nac'])\n",
    "df.shape"
   ]
  },
  {
   "cell_type": "code",
   "execution_count": 10,
   "id": "1e4e0e28",
   "metadata": {},
   "outputs": [],
   "source": [
    "df['tam'] = df['nome'].apply(len)"
   ]
  },
  {
   "cell_type": "code",
   "execution_count": 11,
   "id": "06de3042",
   "metadata": {},
   "outputs": [
    {
     "data": {
      "text/html": [
       "<div>\n",
       "<style scoped>\n",
       "    .dataframe tbody tr th:only-of-type {\n",
       "        vertical-align: middle;\n",
       "    }\n",
       "\n",
       "    .dataframe tbody tr th {\n",
       "        vertical-align: top;\n",
       "    }\n",
       "\n",
       "    .dataframe thead th {\n",
       "        text-align: right;\n",
       "    }\n",
       "</style>\n",
       "<table border=\"1\" class=\"dataframe\">\n",
       "  <thead>\n",
       "    <tr style=\"text-align: right;\">\n",
       "      <th></th>\n",
       "      <th>nome</th>\n",
       "      <th>nac</th>\n",
       "      <th>tam</th>\n",
       "    </tr>\n",
       "  </thead>\n",
       "  <tbody>\n",
       "    <tr>\n",
       "      <th>20064</th>\n",
       "      <td>Wallace</td>\n",
       "      <td>scottish</td>\n",
       "      <td>7</td>\n",
       "    </tr>\n",
       "    <tr>\n",
       "      <th>20065</th>\n",
       "      <td>Watson</td>\n",
       "      <td>scottish</td>\n",
       "      <td>6</td>\n",
       "    </tr>\n",
       "    <tr>\n",
       "      <th>20066</th>\n",
       "      <td>Watt</td>\n",
       "      <td>scottish</td>\n",
       "      <td>4</td>\n",
       "    </tr>\n",
       "    <tr>\n",
       "      <th>20067</th>\n",
       "      <td>White</td>\n",
       "      <td>scottish</td>\n",
       "      <td>5</td>\n",
       "    </tr>\n",
       "    <tr>\n",
       "      <th>20068</th>\n",
       "      <td>Whyte</td>\n",
       "      <td>scottish</td>\n",
       "      <td>5</td>\n",
       "    </tr>\n",
       "    <tr>\n",
       "      <th>20069</th>\n",
       "      <td>Williamson</td>\n",
       "      <td>scottish</td>\n",
       "      <td>10</td>\n",
       "    </tr>\n",
       "    <tr>\n",
       "      <th>20070</th>\n",
       "      <td>Wilson</td>\n",
       "      <td>scottish</td>\n",
       "      <td>6</td>\n",
       "    </tr>\n",
       "    <tr>\n",
       "      <th>20071</th>\n",
       "      <td>Wood</td>\n",
       "      <td>scottish</td>\n",
       "      <td>4</td>\n",
       "    </tr>\n",
       "    <tr>\n",
       "      <th>20072</th>\n",
       "      <td>Wright</td>\n",
       "      <td>scottish</td>\n",
       "      <td>6</td>\n",
       "    </tr>\n",
       "    <tr>\n",
       "      <th>20073</th>\n",
       "      <td>Young</td>\n",
       "      <td>scottish</td>\n",
       "      <td>5</td>\n",
       "    </tr>\n",
       "  </tbody>\n",
       "</table>\n",
       "</div>"
      ],
      "text/plain": [
       "             nome       nac  tam\n",
       "20064     Wallace  scottish    7\n",
       "20065      Watson  scottish    6\n",
       "20066        Watt  scottish    4\n",
       "20067       White  scottish    5\n",
       "20068       Whyte  scottish    5\n",
       "20069  Williamson  scottish   10\n",
       "20070      Wilson  scottish    6\n",
       "20071        Wood  scottish    4\n",
       "20072      Wright  scottish    6\n",
       "20073       Young  scottish    5"
      ]
     },
     "execution_count": 11,
     "metadata": {},
     "output_type": "execute_result"
    }
   ],
   "source": [
    "df.tail(10)"
   ]
  },
  {
   "cell_type": "code",
   "execution_count": 12,
   "id": "b69b7959",
   "metadata": {},
   "outputs": [
    {
     "data": {
      "text/plain": [
       "count    20074.000000\n",
       "mean         7.152486\n",
       "std          2.099244\n",
       "min          2.000000\n",
       "25%          6.000000\n",
       "50%          7.000000\n",
       "75%          8.000000\n",
       "max         19.000000\n",
       "Name: tam, dtype: float64"
      ]
     },
     "execution_count": 12,
     "metadata": {},
     "output_type": "execute_result"
    }
   ],
   "source": [
    "df['tam'].describe()"
   ]
  },
  {
   "cell_type": "code",
   "execution_count": 13,
   "id": "bc166d52",
   "metadata": {},
   "outputs": [
    {
     "data": {
      "text/plain": [
       "count       20074\n",
       "unique         18\n",
       "top       russian\n",
       "freq         9408\n",
       "Name: nac, dtype: object"
      ]
     },
     "execution_count": 13,
     "metadata": {},
     "output_type": "execute_result"
    }
   ],
   "source": [
    "df['nac'].describe()"
   ]
  },
  {
   "cell_type": "code",
   "execution_count": 14,
   "id": "fb844079",
   "metadata": {
    "scrolled": true
   },
   "outputs": [
    {
     "data": {
      "text/plain": [
       "russian       9408\n",
       "english       3668\n",
       "arabic        2000\n",
       "japanese       991\n",
       "german         724\n",
       "italian        709\n",
       "czech          519\n",
       "spanish        298\n",
       "dutch          297\n",
       "french         277\n",
       "chinese        268\n",
       "irish          232\n",
       "greek          203\n",
       "polish         139\n",
       "scottish       100\n",
       "korean          94\n",
       "portuguese      74\n",
       "vietnamese      73\n",
       "Name: nac, dtype: int64"
      ]
     },
     "execution_count": 14,
     "metadata": {},
     "output_type": "execute_result"
    }
   ],
   "source": [
    "df['nac'].value_counts()"
   ]
  },
  {
   "cell_type": "code",
   "execution_count": 15,
   "id": "be544cec",
   "metadata": {
    "scrolled": false
   },
   "outputs": [
    {
     "data": {
      "image/png": "[encoded data removed]",
      "text/plain": [
       "<Figure size 1152x576 with 1 Axes>"
      ]
     },
     "metadata": {
      "needs_background": "light"
     },
     "output_type": "display_data"
    }
   ],
   "source": [
    "_ = dict(df['nac'].value_counts())\n",
    "\n",
    "plt.figure(figsize=(16,8))\n",
    "\n",
    "sns.barplot(x=[*_.values()], y=[*_.keys()], orient='h')\n",
    "\n",
    "plt.title('Contagem das nacionalidades')\n",
    "plt.xlabel('quantidade')\n",
    "plt.show()"
   ]
  },
  {
   "cell_type": "markdown",
   "id": "99f33405",
   "metadata": {},
   "source": [
    "Transformações:"
   ]
  },
  {
   "cell_type": "code",
   "execution_count": 16,
   "id": "22ac6c2c",
   "metadata": {},
   "outputs": [],
   "source": [
    "def classe2tensor(classe):\n",
    "    pos = classes.index(classe)\n",
    "    return torch.LongTensor([pos])"
   ]
  },
  {
   "cell_type": "code",
   "execution_count": 17,
   "id": "da1bce32",
   "metadata": {},
   "outputs": [
    {
     "data": {
      "text/plain": [
       "(['Sierzant', 'polish'], tensor([12]), 'polish')"
      ]
     },
     "execution_count": 17,
     "metadata": {},
     "output_type": "execute_result"
    }
   ],
   "source": [
    "_ = dados[7][93]\n",
    "_, classe2tensor(_[-1]), classes[12]"
   ]
  },
  {
   "cell_type": "code",
   "execution_count": 18,
   "id": "84e7dc3e",
   "metadata": {},
   "outputs": [
    {
     "data": {
      "text/plain": [
       "(55, \"abcdefghijklmnopqrstuvwxyzABCDEFGHIJKLMNOPQRSTUVWXYZ -'\")"
      ]
     },
     "execution_count": 18,
     "metadata": {},
     "output_type": "execute_result"
    }
   ],
   "source": [
    "dicionario = string.ascii_letters + ' -\\''\n",
    "len(dicionario), dicionario"
   ]
  },
  {
   "cell_type": "code",
   "execution_count": 19,
   "id": "bd0a7395",
   "metadata": {},
   "outputs": [],
   "source": [
    "def nome2tensor(nome):\n",
    "    nome_tns = np.zeros((len(nome), len(dicionario)))  # uma entrada no vetor PARA CADA letra\n",
    "    for k,letra in enumerate(nome):\n",
    "        try:\n",
    "            nome_tns[k][dicionario.index(letra)] = 1\n",
    "        except Exception as e:\n",
    "            print(e, nome)\n",
    "    return torch.Tensor(nome_tns)"
   ]
  },
  {
   "cell_type": "code",
   "execution_count": 20,
   "id": "052f8648",
   "metadata": {},
   "outputs": [
    {
     "data": {
      "text/plain": [
       "(torch.Size([15, 55]), tensor([13]))"
      ]
     },
     "execution_count": 20,
     "metadata": {},
     "output_type": "execute_result"
    }
   ],
   "source": [
    "nome2tensor('banco do brasil').shape, classe2tensor('portuguese')"
   ]
  },
  {
   "cell_type": "markdown",
   "id": "8d29b371",
   "metadata": {},
   "source": [
    " Amostragem:"
   ]
  },
  {
   "cell_type": "code",
   "execution_count": 21,
   "id": "2f788389",
   "metadata": {},
   "outputs": [],
   "source": [
    "TAM_AMOSTRA = 50\n",
    "\n",
    "def gerar_amostragem(lista_dados: list):  # permite repetição\n",
    "    amostra = []\n",
    "    for cat in dados:\n",
    "        _ = []\n",
    "        for i in range(TAM_AMOSTRA):\n",
    "            _.append(choice(cat))\n",
    "        amostra.append(_)\n",
    "    return amostra"
   ]
  },
  {
   "cell_type": "code",
   "execution_count": 22,
   "id": "e9b9820f",
   "metadata": {},
   "outputs": [],
   "source": [
    "def amostra2tensor(amostra_dados: list):\n",
    "    dados_tns = []\n",
    "    classes_tns = []\n",
    "    for cat in amostra_dados:\n",
    "        for reg in cat:\n",
    "            try:\n",
    "                _dado = nome2tensor(reg[0])\n",
    "                _classe = classe2tensor(reg[-1])\n",
    "                dados_tns.append(_dado)\n",
    "                classes_tns.append(_classe)\n",
    "            except Exception as e:\n",
    "                print(reg)\n",
    "    return dados_tns, classes_tns"
   ]
  },
  {
   "cell_type": "code",
   "execution_count": 23,
   "id": "8267b913",
   "metadata": {},
   "outputs": [
    {
     "data": {
      "text/plain": [
       "(900, 900)"
      ]
     },
     "execution_count": 23,
     "metadata": {},
     "output_type": "execute_result"
    }
   ],
   "source": [
    "_ = gerar_amostragem(dados)\n",
    "_d, _c = amostra2tensor(_)\n",
    "\n",
    "len(_d), len(_c)"
   ]
  },
  {
   "cell_type": "markdown",
   "id": "73883d66",
   "metadata": {},
   "source": [
    "- ### Arquitetura: RNN simples"
   ]
  },
  {
   "cell_type": "code",
   "execution_count": 24,
   "id": "987c15d1",
   "metadata": {},
   "outputs": [
    {
     "data": {
      "text/plain": [
       "device(type='cpu')"
      ]
     },
     "execution_count": 24,
     "metadata": {},
     "output_type": "execute_result"
    }
   ],
   "source": [
    "DEVICE = torch.device('cuda') if torch.cuda.is_available() else torch.device('cpu')\n",
    "DEVICE"
   ]
  },
  {
   "cell_type": "code",
   "execution_count": 25,
   "id": "ebe3fd6f",
   "metadata": {},
   "outputs": [
    {
     "data": {
      "text/plain": [
       "(55, 18)"
      ]
     },
     "execution_count": 25,
     "metadata": {},
     "output_type": "execute_result"
    }
   ],
   "source": [
    "DIM_INPUT = len(dicionario)\n",
    "DIM_OUTPUT = len(df['nac'].unique())\n",
    "\n",
    "DIM_INPUT, DIM_OUTPUT"
   ]
  },
  {
   "cell_type": "markdown",
   "id": "0949e355",
   "metadata": {},
   "source": [
    "Modelo:"
   ]
  },
  {
   "cell_type": "code",
   "execution_count": 26,
   "id": "b5b7fe36",
   "metadata": {},
   "outputs": [],
   "source": [
    "class CaracteresRNN(nn.Module):\n",
    "\n",
    "\n",
    "    def __init__(self, dim_input, dim_hidden, dim_output):\n",
    "        super(CaracteresRNN, self).__init__()\n",
    "\n",
    "        self.dim_hidden = dim_hidden\n",
    "\n",
    "        self.recorrente = nn.RNNCell(dim_input, dim_hidden)\n",
    "        self.saida = nn.Linear(dim_hidden, dim_output)\n",
    "        self.ativacao = nn.LogSoftmax(dim=1)\n",
    "\n",
    "\n",
    "    def forward(self, nome):\n",
    "        h = torch.zeros(1, self.dim_hidden)                 # hidden_state = B x F\n",
    "\n",
    "        for letra in nome:                                  # nome.size() = [#letras, #dict]\n",
    "            h = self.recorrente(letra.unsqueeze(0), h)\n",
    "\n",
    "        saida = self.ativacao(self.saida(h))\n",
    "        return saida"
   ]
  },
  {
   "cell_type": "code",
   "execution_count": 27,
   "id": "eddfb168",
   "metadata": {},
   "outputs": [
    {
     "data": {
      "text/plain": [
       "(CaracteresRNN(\n",
       "   (recorrente): RNNCell(55, 256)\n",
       "   (saida): Linear(in_features=256, out_features=18, bias=True)\n",
       "   (ativacao): LogSoftmax(dim=1)\n",
       " ),\n",
       " Adam (\n",
       " Parameter Group 0\n",
       "     amsgrad: False\n",
       "     betas: (0.9, 0.999)\n",
       "     eps: 1e-08\n",
       "     lr: 0.001\n",
       "     weight_decay: 1e-07\n",
       " ),\n",
       " NLLLoss())"
      ]
     },
     "execution_count": 27,
     "metadata": {},
     "output_type": "execute_result"
    }
   ],
   "source": [
    "try:\n",
    "    del modelo, loss_func, otimizador\n",
    "except:\n",
    "    pass\n",
    "\n",
    "modelo = CaracteresRNN(DIM_INPUT, 256, DIM_OUTPUT)\n",
    "loss_func = nn.NLLLoss()\n",
    "otimizador = optim.Adam(modelo.parameters(), lr=1e-3, weight_decay=1e-7)\n",
    "\n",
    "\n",
    "modelo, otimizador, loss_func"
   ]
  },
  {
   "cell_type": "code",
   "execution_count": 28,
   "id": "28106d9d",
   "metadata": {},
   "outputs": [],
   "source": [
    "def forward_rnn(X, Y, etapa, epoca):\n",
    "\n",
    "    loss_epoca = []\n",
    "    acuracia = 0.0\n",
    "\n",
    "    for dado, rotulo in zip(X, Y):\n",
    "\n",
    "        saida = modelo(dado)\n",
    "        loss = loss_func(saida, rotulo)\n",
    "        loss_epoca.append(loss)\n",
    "\n",
    "        _, pred = torch.max(saida, axis=-1)\n",
    "        acuracia += 1 if pred[0] == rotulo[0].item() else 0\n",
    "\n",
    "        if etapa == 'treino':\n",
    "            otimizador.zero_grad()\n",
    "            loss.backward()\n",
    "            otimizador.step()\n",
    "\n",
    "    loss_epoca = np.array([x.item() for x in loss_epoca])\n",
    "    acuracia = acuracia/float(len(X))\n",
    "\n",
    "    _msg = f'Loss: {loss_epoca.mean():.2f} +- {loss_epoca.std():.2f}, Acurácia: {acuracia * 100:.2f}'\n",
    "    if etapa == 'treino':\n",
    "        print(f'## Epoch: {epoca} | {_msg}')\n",
    "    else:\n",
    "        print(f'-- Validação | {_msg}\\n')\n",
    "\n",
    "    return loss_epoca.mean(), acuracia"
   ]
  },
  {
   "cell_type": "markdown",
   "id": "83a3837f",
   "metadata": {},
   "source": [
    "(A implementação do treino com poucos dados (amostras) não ficou tão boa, portanto, comentei)"
   ]
  },
  {
   "cell_type": "code",
   "execution_count": 29,
   "id": "8d0adbd3",
   "metadata": {},
   "outputs": [],
   "source": [
    "# %%time\n",
    "\n",
    "# EPOCHS = 100\n",
    "\n",
    "# loss_treino, loss_teste = [], []\n",
    "# acc_treino, acc_teste = [], []\n",
    "\n",
    "# amostra = gerar_amostragem(dados)\n",
    "# xtest, ytest = amostra2tensor(amostra)\n",
    "\n",
    "# for epoch in range(EPOCHS):\n",
    "\n",
    "#     amostra = gerar_amostragem(dados)\n",
    "#     xtrain, ytrain = amostra2tensor(amostra)\n",
    "\n",
    "#     # fazer um leve embaralhamento\n",
    "#     if epoch % 2 == 0:\n",
    "#         xtrain = xtrain[::-1]\n",
    "#         ytrain = ytrain[::-1]\n",
    "    \n",
    "#     loss, acc = forward_rnn(X=xtrain, Y=ytrain, etapa='treino', epoca=epoch)\n",
    "#     loss_treino.append(loss)\n",
    "#     acc_treino.append(acc)\n",
    "\n",
    "#     loss, acc = forward_rnn(X=xtest, Y=ytest, etapa='validacao', epoca=epoch)\n",
    "#     loss_teste.append(loss)\n",
    "#     acc_teste.append(acc)"
   ]
  },
  {
   "cell_type": "code",
   "execution_count": 30,
   "id": "6acde9c4",
   "metadata": {},
   "outputs": [],
   "source": [
    "df_nome_tns = df['nome'].apply(nome2tensor).values\n",
    "df_nac_tns = df['nac'].apply(classe2tensor).values"
   ]
  },
  {
   "cell_type": "code",
   "execution_count": 31,
   "id": "5987a785",
   "metadata": {},
   "outputs": [
    {
     "data": {
      "text/plain": [
       "((15055,), (15055,), (5019,), (5019,))"
      ]
     },
     "execution_count": 31,
     "metadata": {},
     "output_type": "execute_result"
    }
   ],
   "source": [
    "xtrain, xtest, ytrain, ytest = train_test_split(df_nome_tns,\n",
    "                                                df_nac_tns,\n",
    "                                                stratify=df_nac_tns,\n",
    "                                                test_size=.25,\n",
    "                                                random_state=777)\n",
    "\n",
    "xtrain.shape, ytrain.shape, xtest.shape, ytest.shape"
   ]
  },
  {
   "cell_type": "markdown",
   "id": "96aa5880",
   "metadata": {},
   "source": [
    "Para utilizar todos os dados da massa de treino, deveríamos iterar ao longo de 300 épocas. Em virtude da duração, dos recursos computacionais e dos resultados iniciais serem razoáveis, vamos iterar menos épocas."
   ]
  },
  {
   "cell_type": "markdown",
   "id": "2b7735c1",
   "metadata": {},
   "source": [
    "_Note que o nosso `split` foi feito de forma estratificada!_"
   ]
  },
  {
   "cell_type": "markdown",
   "id": "307e20c9",
   "metadata": {},
   "source": [
    "Treinamento:"
   ]
  },
  {
   "cell_type": "code",
   "execution_count": 34,
   "id": "ee6f3429",
   "metadata": {
    "scrolled": true
   },
   "outputs": [
    {
     "name": "stdout",
     "output_type": "stream",
     "text": [
      "## Epoch: 0 | Loss: 1.32 +- 1.33, Acurácia: 60.00\n",
      "-- Validação | Loss: 1.84 +- 1.09, Acurácia: 50.45\n",
      "\n",
      "## Epoch: 1 | Loss: 1.81 +- 1.30, Acurácia: 44.00\n",
      "-- Validação | Loss: 2.11 +- 2.39, Acurácia: 47.34\n",
      "\n",
      "## Epoch: 2 | Loss: 1.46 +- 1.37, Acurácia: 56.00\n",
      "-- Validação | Loss: 2.20 +- 2.30, Acurácia: 45.61\n",
      "\n",
      "## Epoch: 3 | Loss: 2.06 +- 1.63, Acurácia: 52.00\n",
      "-- Validação | Loss: 1.79 +- 1.60, Acurácia: 48.87\n",
      "\n",
      "## Epoch: 4 | Loss: 1.65 +- 1.30, Acurácia: 46.00\n",
      "-- Validação | Loss: 1.66 +- 1.44, Acurácia: 48.81\n",
      "\n",
      "## Epoch: 5 | Loss: 1.91 +- 1.87, Acurácia: 48.00\n",
      "-- Validação | Loss: 1.67 +- 1.58, Acurácia: 49.45\n",
      "\n",
      "## Epoch: 6 | Loss: 1.27 +- 1.46, Acurácia: 62.00\n",
      "-- Validação | Loss: 1.65 +- 1.56, Acurácia: 50.43\n",
      "\n",
      "## Epoch: 7 | Loss: 1.58 +- 1.41, Acurácia: 58.00\n",
      "-- Validação | Loss: 1.66 +- 1.68, Acurácia: 51.66\n",
      "\n",
      "## Epoch: 8 | Loss: 1.27 +- 1.22, Acurácia: 58.00\n",
      "-- Validação | Loss: 2.00 +- 2.07, Acurácia: 47.72\n",
      "\n",
      "## Epoch: 9 | Loss: 1.78 +- 1.88, Acurácia: 58.00\n",
      "-- Validação | Loss: 1.83 +- 1.97, Acurácia: 50.71\n",
      "\n",
      "## Epoch: 10 | Loss: 2.54 +- 1.69, Acurácia: 32.00\n",
      "-- Validação | Loss: 2.04 +- 0.98, Acurácia: 40.71\n",
      "\n",
      "## Epoch: 11 | Loss: 1.87 +- 1.61, Acurácia: 50.00\n",
      "-- Validação | Loss: 2.16 +- 1.43, Acurácia: 34.67\n",
      "\n",
      "## Epoch: 12 | Loss: 1.93 +- 1.38, Acurácia: 36.00\n",
      "-- Validação | Loss: 1.76 +- 1.27, Acurácia: 50.25\n",
      "\n",
      "## Epoch: 13 | Loss: 1.64 +- 1.37, Acurácia: 54.00\n",
      "-- Validação | Loss: 1.55 +- 1.29, Acurácia: 51.68\n",
      "\n",
      "## Epoch: 14 | Loss: 1.28 +- 1.40, Acurácia: 64.00\n",
      "-- Validação | Loss: 1.58 +- 1.54, Acurácia: 52.54\n",
      "\n",
      "## Epoch: 15 | Loss: 1.78 +- 1.43, Acurácia: 42.00\n",
      "-- Validação | Loss: 1.57 +- 1.34, Acurácia: 50.07\n",
      "\n",
      "## Epoch: 16 | Loss: 1.59 +- 1.36, Acurácia: 52.00\n",
      "-- Validação | Loss: 1.54 +- 1.39, Acurácia: 52.40\n",
      "\n",
      "## Epoch: 17 | Loss: 1.47 +- 1.34, Acurácia: 54.00\n",
      "-- Validação | Loss: 1.57 +- 1.56, Acurácia: 52.42\n",
      "\n",
      "## Epoch: 18 | Loss: 1.53 +- 1.42, Acurácia: 52.00\n",
      "-- Validação | Loss: 1.53 +- 1.19, Acurácia: 54.09\n",
      "\n",
      "## Epoch: 19 | Loss: 1.64 +- 1.45, Acurácia: 50.00\n",
      "-- Validação | Loss: 1.58 +- 1.10, Acurácia: 54.91\n",
      "\n",
      "## Epoch: 20 | Loss: 1.46 +- 1.24, Acurácia: 58.00\n",
      "-- Validação | Loss: 1.55 +- 1.35, Acurácia: 50.97\n",
      "\n",
      "## Epoch: 21 | Loss: 1.32 +- 1.68, Acurácia: 66.00\n",
      "-- Validação | Loss: 1.57 +- 1.39, Acurácia: 53.60\n",
      "\n",
      "## Epoch: 22 | Loss: 1.48 +- 1.46, Acurácia: 56.00\n",
      "-- Validação | Loss: 1.68 +- 1.68, Acurácia: 49.11\n",
      "\n",
      "## Epoch: 23 | Loss: 1.66 +- 1.18, Acurácia: 52.00\n",
      "-- Validação | Loss: 1.44 +- 1.40, Acurácia: 56.96\n",
      "\n",
      "## Epoch: 24 | Loss: 1.69 +- 1.56, Acurácia: 60.00\n",
      "-- Validação | Loss: 1.53 +- 1.46, Acurácia: 52.38\n",
      "\n",
      "## Epoch: 25 | Loss: 2.05 +- 1.46, Acurácia: 38.00\n",
      "-- Validação | Loss: 1.49 +- 1.33, Acurácia: 53.42\n",
      "\n",
      "## Epoch: 26 | Loss: 1.48 +- 1.36, Acurácia: 48.00\n",
      "-- Validação | Loss: 1.83 +- 1.67, Acurácia: 44.33\n",
      "\n",
      "## Epoch: 27 | Loss: 1.74 +- 1.42, Acurácia: 44.00\n",
      "-- Validação | Loss: 1.80 +- 1.35, Acurácia: 43.02\n",
      "\n",
      "## Epoch: 28 | Loss: 1.59 +- 1.37, Acurácia: 50.00\n",
      "-- Validação | Loss: 1.55 +- 1.40, Acurácia: 52.96\n",
      "\n",
      "## Epoch: 29 | Loss: 1.78 +- 1.69, Acurácia: 60.00\n",
      "-- Validação | Loss: 1.54 +- 1.37, Acurácia: 53.88\n",
      "\n",
      "CPU times: user 10min 23s, sys: 2.35 s, total: 10min 25s\n",
      "Wall time: 3min 2s\n"
     ]
    }
   ],
   "source": [
    "%%time\n",
    "\n",
    "EPOCHS = 50\n",
    "\n",
    "loss_treino, loss_teste = [], []\n",
    "acc_treino, acc_teste = [], []\n",
    "\n",
    "j = 50  # janela\n",
    "\n",
    "for e in range(EPOCHS):\n",
    "\n",
    "    loss, acc = forward_rnn(X=xtrain[e*j:(e*j)+j], Y=ytrain[e*j:(e*j)+j], etapa='treino', epoca=e)\n",
    "    loss_treino.append(loss)\n",
    "    acc_treino.append(acc)\n",
    "\n",
    "    loss, acc = forward_rnn(X=xtest, Y=ytest, etapa='validacao', epoca=e)\n",
    "    loss_teste.append(loss)\n",
    "    acc_teste.append(acc)"
   ]
  },
  {
   "cell_type": "code",
   "execution_count": 35,
   "id": "7b7a683b",
   "metadata": {
    "scrolled": false
   },
   "outputs": [
    {
     "data": {
      "image/png": "[encoded data removed]",
      "text/plain": [
       "<Figure size 1008x432 with 2 Axes>"
      ]
     },
     "metadata": {
      "needs_background": "light"
     },
     "output_type": "display_data"
    }
   ],
   "source": [
    "plt.figure(figsize=(14, 6))\n",
    "plt.suptitle('Desempenho', fontsize=16)\n",
    "\n",
    "plt.subplot(1, 2, 1)\n",
    "plt.title('Loss', fontsize=14)\n",
    "sns.lineplot(x=range(EPOCHS), y=[x.item() for x in loss_treino], hue=['treino' for _ in range(EPOCHS)])\n",
    "sns.lineplot(x=range(EPOCHS), palette=['r'], y=[x.item() for x in loss_teste], hue=['teste' for _ in range(EPOCHS)])\n",
    "plt.xlabel('epoca', fontsize=12)\n",
    "plt.ylabel('loss', fontsize=12)\n",
    "plt.grid()\n",
    "\n",
    "plt.subplot(1, 2, 2)\n",
    "plt.title('Acurácia', fontsize=14)\n",
    "sns.lineplot(x=range(EPOCHS), y=acc_treino, hue=['treino' for _ in range(EPOCHS)])\n",
    "sns.lineplot(x=range(EPOCHS), y=acc_teste, palette=['r'], hue=['teste' for _ in range(EPOCHS)])\n",
    "plt.xlabel('epoca', fontsize=12)\n",
    "plt.ylabel('acc', fontsize=12)\n",
    "plt.grid()\n",
    "\n",
    "plt.tight_layout()\n",
    "plt.show()"
   ]
  },
  {
   "cell_type": "code",
   "execution_count": 36,
   "id": "b6afe118",
   "metadata": {},
   "outputs": [],
   "source": [
    "def predict(nome, top=3):\n",
    "    tns = nome2tensor(nome)\n",
    "    saida = modelo(tns)\n",
    "    probas, idxs = saida.data.topk(top, 1, True)#, True)\n",
    "#     print(f'>> {nome}')\n",
    "    for proba,arg in zip(*probas, *idxs):\n",
    "        p = proba.item()\n",
    "        a = arg.item()\n",
    "        c = classes[arg.item()]\n",
    "        print(f'Proba: {p:.2f}\\tClasse: {a}\\tLabel: {c}')\n",
    "    print()"
   ]
  },
  {
   "cell_type": "code",
   "execution_count": 37,
   "id": "bde2433f",
   "metadata": {
    "scrolled": false
   },
   "outputs": [
    {
     "name": "stdout",
     "output_type": "stream",
     "text": [
      "Mingaleev [russian]\n",
      "Proba: -0.18\tClasse: 14\tLabel: russian\n",
      "Proba: -2.96\tClasse: 4\tLabel: english\n",
      "Proba: -3.47\tClasse: 10\tLabel: japanese\n",
      "\n",
      "Noggins [english]\n",
      "Proba: -1.35\tClasse: 0\tLabel: arabic\n",
      "Proba: -1.50\tClasse: 4\tLabel: english\n",
      "Proba: -2.52\tClasse: 6\tLabel: german\n",
      "\n",
      "Otroshenko [russian]\n",
      "Proba: -0.25\tClasse: 14\tLabel: russian\n",
      "Proba: -2.72\tClasse: 9\tLabel: italian\n",
      "Proba: -3.89\tClasse: 4\tLabel: english\n",
      "\n",
      "Taguchi [japanese]\n",
      "Proba: -1.50\tClasse: 4\tLabel: english\n",
      "Proba: -2.48\tClasse: 6\tLabel: german\n",
      "Proba: -2.59\tClasse: 16\tLabel: spanish\n",
      "\n",
      "Haik [arabic]\n",
      "Proba: -0.90\tClasse: 0\tLabel: arabic\n",
      "Proba: -1.72\tClasse: 4\tLabel: english\n",
      "Proba: -2.30\tClasse: 14\tLabel: russian\n",
      "\n"
     ]
    }
   ],
   "source": [
    "for i in range(5):\n",
    "    n, nac, = choice(df[['nome', 'nac']].values)\n",
    "    print(f'{n} [{nac}]')\n",
    "    predict(n)"
   ]
  },
  {
   "cell_type": "markdown",
   "id": "ce287542",
   "metadata": {},
   "source": [
    "- ### GRU"
   ]
  },
  {
   "cell_type": "code",
   "execution_count": 41,
   "id": "caafab1e",
   "metadata": {},
   "outputs": [],
   "source": [
    "class CaracteresGRU(nn.Module):\n",
    "\n",
    "\n",
    "    def __init__(self, dim_input, dim_hidden, dim_output):\n",
    "        super(CaracteresGRU, self).__init__()\n",
    "\n",
    "        self.dim_hidden = dim_hidden\n",
    "\n",
    "        self.recorrente = nn.GRU(dim_input, dim_hidden, batch_first=False)\n",
    "        self.saida = nn.Linear(dim_hidden, dim_output)\n",
    "        self.ativacao = nn.LogSoftmax(dim=1)\n",
    "\n",
    "\n",
    "    def forward(self, nome):\n",
    "        h = torch.zeros(1, 1, self.dim_hidden)              # hidden_state = L x B x F\n",
    "        nome = nome.unsqueeze(1)\n",
    "        saida, h  = self.recorrente(nome)\n",
    "        saida = self.ativacao(self.saida(saida[-1]))\n",
    "        return saida"
   ]
  },
  {
   "cell_type": "code",
   "execution_count": 42,
   "id": "2e2c35eb",
   "metadata": {},
   "outputs": [
    {
     "data": {
      "text/plain": [
       "(CaracteresGRU(\n",
       "   (recorrente): GRU(55, 256)\n",
       "   (saida): Linear(in_features=256, out_features=18, bias=True)\n",
       "   (ativacao): LogSoftmax(dim=1)\n",
       " ),\n",
       " Adam (\n",
       " Parameter Group 0\n",
       "     amsgrad: False\n",
       "     betas: (0.9, 0.999)\n",
       "     eps: 1e-08\n",
       "     lr: 0.001\n",
       "     weight_decay: 1e-07\n",
       " ),\n",
       " NLLLoss())"
      ]
     },
     "execution_count": 42,
     "metadata": {},
     "output_type": "execute_result"
    }
   ],
   "source": [
    "try:\n",
    "    del modelo, loss_func, otimizador\n",
    "except:\n",
    "    pass\n",
    "\n",
    "modelo = CaracteresGRU(DIM_INPUT, 256, DIM_OUTPUT)\n",
    "loss_func = nn.NLLLoss()\n",
    "otimizador = optim.Adam(modelo.parameters(), lr=1e-3, weight_decay=1e-7)\n",
    "\n",
    "\n",
    "modelo, otimizador, loss_func"
   ]
  },
  {
   "cell_type": "code",
   "execution_count": 45,
   "id": "7d2b694e",
   "metadata": {
    "scrolled": true
   },
   "outputs": [
    {
     "name": "stdout",
     "output_type": "stream",
     "text": [
      "## Epoch: 0 | Loss: 1.33 +- 1.24, Acurácia: 56.00\n",
      "-- Validação | Loss: 1.83 +- 1.43, Acurácia: 46.92\n",
      "\n",
      "## Epoch: 1 | Loss: 2.07 +- 1.25, Acurácia: 38.00\n",
      "-- Validação | Loss: 2.15 +- 2.71, Acurácia: 46.86\n",
      "\n",
      "## Epoch: 2 | Loss: 1.58 +- 1.46, Acurácia: 56.00\n",
      "-- Validação | Loss: 1.93 +- 2.10, Acurácia: 46.86\n",
      "\n",
      "## Epoch: 3 | Loss: 2.03 +- 1.67, Acurácia: 44.00\n",
      "-- Validação | Loss: 1.77 +- 1.21, Acurácia: 47.06\n",
      "\n",
      "## Epoch: 4 | Loss: 1.63 +- 1.37, Acurácia: 48.00\n",
      "-- Validação | Loss: 1.69 +- 1.36, Acurácia: 48.42\n",
      "\n",
      "## Epoch: 5 | Loss: 1.84 +- 1.82, Acurácia: 46.00\n",
      "-- Validação | Loss: 1.66 +- 1.39, Acurácia: 47.04\n",
      "\n",
      "## Epoch: 6 | Loss: 1.27 +- 1.38, Acurácia: 60.00\n",
      "-- Validação | Loss: 1.73 +- 1.75, Acurácia: 47.72\n",
      "\n",
      "## Epoch: 7 | Loss: 1.72 +- 1.61, Acurácia: 54.00\n",
      "-- Validação | Loss: 1.65 +- 1.65, Acurácia: 48.54\n",
      "\n",
      "## Epoch: 8 | Loss: 1.21 +- 1.26, Acurácia: 62.00\n",
      "-- Validação | Loss: 1.66 +- 1.73, Acurácia: 48.73\n",
      "\n",
      "## Epoch: 9 | Loss: 1.65 +- 1.58, Acurácia: 52.00\n",
      "-- Validação | Loss: 1.66 +- 1.61, Acurácia: 47.92\n",
      "\n",
      "CPU times: user 4min 28s, sys: 820 ms, total: 4min 29s\n",
      "Wall time: 1min 22s\n"
     ]
    }
   ],
   "source": [
    "%%time\n",
    "\n",
    "EPOCHS = 50\n",
    "\n",
    "loss_treino, loss_teste = [], []\n",
    "acc_treino, acc_teste = [], []\n",
    "\n",
    "j = 50  # janela\n",
    "\n",
    "for e in range(EPOCHS):\n",
    "\n",
    "    loss, acc = forward_rnn(X=xtrain[e*j:(e*j)+j], Y=ytrain[e*j:(e*j)+j], etapa='treino', epoca=e)\n",
    "    loss_treino.append(loss)\n",
    "    acc_treino.append(acc)\n",
    "\n",
    "    loss, acc = forward_rnn(X=xtest, Y=ytest, etapa='validacao', epoca=e)\n",
    "    loss_teste.append(loss)\n",
    "    acc_teste.append(acc)"
   ]
  },
  {
   "cell_type": "code",
   "execution_count": 46,
   "id": "dfbbee01",
   "metadata": {},
   "outputs": [
    {
     "data": {
      "image/png": "[encoded data removed]",
      "text/plain": [
       "<Figure size 1008x432 with 2 Axes>"
      ]
     },
     "metadata": {
      "needs_background": "light"
     },
     "output_type": "display_data"
    }
   ],
   "source": [
    "plt.figure(figsize=(14, 6))\n",
    "plt.suptitle('Desempenho', fontsize=16)\n",
    "\n",
    "plt.subplot(1, 2, 1)\n",
    "plt.title('Loss', fontsize=14)\n",
    "sns.lineplot(x=range(EPOCHS), y=[x.item() for x in loss_treino], hue=['treino' for _ in range(EPOCHS)])\n",
    "sns.lineplot(x=range(EPOCHS), palette=['r'], y=[x.item() for x in loss_teste], hue=['teste' for _ in range(EPOCHS)])\n",
    "plt.xlabel('epoca', fontsize=12)\n",
    "plt.ylabel('loss', fontsize=12)\n",
    "plt.grid()\n",
    "\n",
    "plt.subplot(1, 2, 2)\n",
    "plt.title('Acurácia', fontsize=14)\n",
    "sns.lineplot(x=range(EPOCHS), y=acc_treino, hue=['treino' for _ in range(EPOCHS)])\n",
    "sns.lineplot(x=range(EPOCHS), y=acc_teste, palette=['r'], hue=['teste' for _ in range(EPOCHS)])\n",
    "plt.xlabel('epoca', fontsize=12)\n",
    "plt.ylabel('acc', fontsize=12)\n",
    "plt.grid()\n",
    "\n",
    "plt.tight_layout()\n",
    "plt.show()"
   ]
  },
  {
   "cell_type": "code",
   "execution_count": 48,
   "id": "86f84c0c",
   "metadata": {},
   "outputs": [],
   "source": [
    "def predict(nome, top=3):\n",
    "    tns = nome2tensor(nome)\n",
    "    saida = modelo(tns)\n",
    "    probas, idxs = saida.data.topk(top, 1, True)#, True)\n",
    "    for proba,arg in zip(*probas, *idxs):\n",
    "        p = proba.item()\n",
    "        a = arg.item()\n",
    "        c = classes[arg.item()]\n",
    "        print(f'Proba: {p:.2f}\\tClasse: {a}\\tLabel: {c}')\n",
    "    print()"
   ]
  },
  {
   "cell_type": "code",
   "execution_count": 51,
   "id": "2ece7379",
   "metadata": {},
   "outputs": [
    {
     "name": "stdout",
     "output_type": "stream",
     "text": [
      "Fernyhough [english]\n",
      "Proba: -0.14\tClasse: 14\tLabel: russian\n",
      "Proba: -3.12\tClasse: 4\tLabel: english\n",
      "Proba: -4.23\tClasse: 3\tLabel: dutch\n",
      "\n",
      "Toma [arabic]\n",
      "Proba: -1.58\tClasse: 14\tLabel: russian\n",
      "Proba: -1.90\tClasse: 4\tLabel: english\n",
      "Proba: -2.12\tClasse: 0\tLabel: arabic\n",
      "\n",
      "Yuschak [russian]\n",
      "Proba: -0.23\tClasse: 14\tLabel: russian\n",
      "Proba: -2.76\tClasse: 4\tLabel: english\n",
      "Proba: -3.71\tClasse: 10\tLabel: japanese\n",
      "\n"
     ]
    }
   ],
   "source": [
    "for i in range(3):\n",
    "    n, nac, = choice(df[['nome', 'nac']].values)\n",
    "    print(f'{n} [{nac}]')\n",
    "    predict(n)"
   ]
  },
  {
   "cell_type": "markdown",
   "id": "a461d0dd",
   "metadata": {},
   "source": [
    "___\n",
    "## Análise de Sentimentos"
   ]
  },
  {
   "cell_type": "code",
   "execution_count": 102,
   "id": "fb747ea5",
   "metadata": {},
   "outputs": [],
   "source": [
    "import os\n",
    "\n",
    "from torchtext import data, datasets\n",
    "from torchtext.legacy.data import Field  # curso está defasado"
   ]
  },
  {
   "cell_type": "code",
   "execution_count": 115,
   "id": "8f56ac4d",
   "metadata": {},
   "outputs": [
    {
     "ename": "ConnectionError",
     "evalue": "Não foi possível fazer o download!",
     "output_type": "error",
     "traceback": [
      "\u001b[0;31m---------------------------------------------------------------------------\u001b[0m",
      "\u001b[0;31mConnectionError\u001b[0m                           Traceback (most recent call last)",
      "\u001b[0;32m<ipython-input-115-c36b54a69734>\u001b[0m in \u001b[0;36m<module>\u001b[0;34m\u001b[0m\n\u001b[1;32m      1\u001b[0m \u001b[0;32mif\u001b[0m \u001b[0mos\u001b[0m\u001b[0;34m.\u001b[0m\u001b[0msystem\u001b[0m\u001b[0;34m(\u001b[0m\u001b[0;34m'python3 -m spacy download en_core_web_sm'\u001b[0m\u001b[0;34m)\u001b[0m \u001b[0;34m!=\u001b[0m \u001b[0;36m0\u001b[0m\u001b[0;34m:\u001b[0m\u001b[0;34m\u001b[0m\u001b[0;34m\u001b[0m\u001b[0m\n\u001b[0;32m----> 2\u001b[0;31m     \u001b[0;32mraise\u001b[0m \u001b[0mConnectionError\u001b[0m\u001b[0;34m(\u001b[0m\u001b[0;34m'Não foi possível fazer o download!'\u001b[0m\u001b[0;34m)\u001b[0m\u001b[0;34m\u001b[0m\u001b[0;34m\u001b[0m\u001b[0m\n\u001b[0m",
      "\u001b[0;31mConnectionError\u001b[0m: Não foi possível fazer o download!"
     ]
    }
   ],
   "source": [
    "if os.system('python3 -m spacy download en_core_web_sm') != 0:\n",
    "    raise ConnectionError('Não foi possível fazer o download!')"
   ]
  },
  {
   "cell_type": "code",
   "execution_count": 110,
   "id": "37f0a21b",
   "metadata": {},
   "outputs": [
    {
     "name": "stdout",
     "output_type": "stream",
     "text": [
      "[E050] Can't find model 'en_core_web_sm'. It doesn't seem to be a Python package or a valid path to a data directory.\n"
     ]
    }
   ],
   "source": [
    "try:\n",
    "    TEXT = Field(tokenize='spacy', include_lengths=True)\n",
    "    LABEL = Field(dtype=torch.long)\n",
    "except Exception as e:\n",
    "    print(e)"
   ]
  },
  {
   "cell_type": "code",
   "execution_count": 109,
   "id": "9b9a6fea",
   "metadata": {},
   "outputs": [
    {
     "name": "stdout",
     "output_type": "stream",
     "text": [
      "('Connection aborted.', ConnectionResetError(104, 'Connection reset by peer'))\n"
     ]
    }
   ],
   "source": [
    "try:\n",
    "    xytrain, xytest = datasets.IMDB()   # curso está defasado\n",
    "except Exception as e:\n",
    "    print(e)"
   ]
  },
  {
   "cell_type": "markdown",
   "id": "3f24abff",
   "metadata": {},
   "source": [
    "### ..."
   ]
  },
  {
   "cell_type": "markdown",
   "id": "7a957028",
   "metadata": {},
   "source": [
    "$\\blacksquare$ cqd"
   ]
  }
 ],
 "metadata": {
  "kernelspec": {
   "display_name": "Python 3",
   "language": "python",
   "name": "python3"
  },
  "language_info": {
   "codemirror_mode": {
    "name": "ipython",
    "version": 3
   },
   "file_extension": ".py",
   "mimetype": "text/x-python",
   "name": "python",
   "nbconvert_exporter": "python",
   "pygments_lexer": "ipython3",
   "version": "3.6.13"
  }
 },
 "nbformat": 4,
 "nbformat_minor": 5
}
